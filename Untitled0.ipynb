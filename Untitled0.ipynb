{
  "nbformat": 4,
  "nbformat_minor": 0,
  "metadata": {
    "colab": {
      "name": "Untitled0.ipynb",
      "provenance": []
    },
    "kernelspec": {
      "name": "python3",
      "display_name": "Python 3"
    },
    "language_info": {
      "name": "python"
    }
  },
  "cells": [
    {
      "cell_type": "markdown",
      "source": [
        "# \"My Jupyter Notebook on IBM Watson Studio\""
      ],
      "metadata": {
        "id": "mHhAR1-F8Z4Y"
      }
    },
    {
      "cell_type": "markdown",
      "source": [
        "**Lampros**\n",
        "\n",
        "Employee"
      ],
      "metadata": {
        "id": "I1ZeWRfY9GHJ"
      }
    },
    {
      "cell_type": "markdown",
      "source": [
        "*I am interested in data science since data has soooo much influence and insights to  way to do business and live.*"
      ],
      "metadata": {
        "id": "WlGoj-3k9c9n"
      }
    },
    {
      "cell_type": "markdown",
      "source": [
        "## The following code is just a test"
      ],
      "metadata": {
        "id": "Hij4hyvU9dTu"
      }
    },
    {
      "cell_type": "code",
      "source": [
        "1+1"
      ],
      "metadata": {
        "colab": {
          "base_uri": "https://localhost:8080/"
        },
        "id": "U4VU9HlU-HTB",
        "outputId": "d1cd1207-8e51-474f-8233-5aa55beaf486"
      },
      "execution_count": 2,
      "outputs": [
        {
          "output_type": "execute_result",
          "data": {
            "text/plain": [
              "2"
            ]
          },
          "metadata": {},
          "execution_count": 2
        }
      ]
    },
    {
      "cell_type": "markdown",
      "source": [
        "\n",
        "\n",
        "1.   thefirst\n",
        "2.   thesecond\n",
        "\n",
        "\n",
        "\n",
        "\n",
        "*   againthefirst\n",
        "*   againtesecond\n",
        "\n",
        "\n",
        "\n",
        "---\n",
        "\n",
        "[microsoft](https://www.microsoft.com)\n",
        "\n",
        "\n",
        "\n",
        "\n",
        "\n",
        "\n"
      ],
      "metadata": {
        "id": "CTKvpCJ39dvB"
      }
    },
    {
      "cell_type": "code",
      "source": [
        ""
      ],
      "metadata": {
        "id": "oqt3VWGg9KFZ"
      },
      "execution_count": null,
      "outputs": []
    }
  ]
}